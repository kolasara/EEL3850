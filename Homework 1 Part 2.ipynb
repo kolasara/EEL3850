{
 "cells": [
  {
   "cell_type": "markdown",
   "metadata": {},
   "source": [
    "# Homework 1 Part 2\n",
    "\n",
    "**Due: Monday, September 16, 11:59 PM**\n",
    "\n",
    "This is an individual assignment."
   ]
  },
  {
   "cell_type": "markdown",
   "metadata": {},
   "source": [
    "## Description\n",
    "\n",
    "Create or edit this Jupyter Notebook to answer the questions below. Use simulations to answer these questions. An analytical solution can be useful to check if your simulation is correct but analytical solutions alone will not be accepted as a solution to a problem."
   ]
  },
  {
   "cell_type": "code",
   "execution_count": 3,
   "metadata": {},
   "outputs": [],
   "source": [
    "import random\n",
    "import numpy.random as npr\n",
    "import numpy as np\n",
    "\n",
    "import matplotlib.pyplot as plt\n",
    "%matplotlib inline\n",
    "plt.style.use('ggplot')"
   ]
  },
  {
   "cell_type": "markdown",
   "metadata": {},
   "source": [
    "## Problem 7\n",
    "\n",
    "Consider repeatedly rolling a fair 6-sided die.\n",
    "\n",
    "1. Create a simulation to compute the probability that the top face will be 6 at least once on 3 rolls of the die?\n",
    "2. Create a simulation to compute the probability that the top face will be 6 at least once on 6 rolls of the die?\n",
    "3. Create a simulation to compute how many rolls of the die would you have to do to be 90% confident that you would see at least one 6?\n",
    "4. Using the formula you have computed in problem 2 part 4, make a Python function that takes in the target value $p$ and outputs the required number of rolls of an integer. \n",
    "    1. Find the values for $p=0.95$ and $p=0.99$. \n",
    "    2. Use your simulation to verify that the number of rolls you specified is sufficient to achieve $p\\geq 0.95$."
   ]
  },
  {
   "cell_type": "code",
   "execution_count": 5,
   "metadata": {},
   "outputs": [],
   "source": [
    "#Create a function to run the first two questions\n",
    "def simulation(num_sims = 100_000, num_rolls = 3):\n",
    "    die = npr.randint(1, 7, size = (num_rolls, num_sims))\n",
    "    nr_six = np.sum(np.sum(die == 6, axis = 0) >= 1)\n",
    "    print(f\"Probability to get at least one 6 on {num_rolls} rolls {nr_six/num_sims}\")\n",
    "    return nr_six/num_sims"
   ]
  },
  {
   "cell_type": "code",
   "execution_count": 6,
   "metadata": {},
   "outputs": [
    {
     "name": "stdout",
     "output_type": "stream",
     "text": [
      "Probability to get at least one 6 on 3 rolls 0.42138\n",
      "Probability to get at least one 6 on 6 rolls 0.66512\n"
     ]
    },
    {
     "data": {
      "text/plain": [
       "0.66512"
      ]
     },
     "execution_count": 6,
     "metadata": {},
     "output_type": "execute_result"
    }
   ],
   "source": [
    "simulation(num_rolls = 3)\n",
    "simulation(num_rolls = 6)"
   ]
  },
  {
   "cell_type": "code",
   "execution_count": 7,
   "metadata": {},
   "outputs": [
    {
     "name": "stdout",
     "output_type": "stream",
     "text": [
      "Probability to get at least one 6 on 0 rolls 0.0\n",
      "Probability to get at least one 6 on 1 rolls 0.16691\n",
      "Probability to get at least one 6 on 2 rolls 0.30365\n",
      "Probability to get at least one 6 on 3 rolls 0.42151\n",
      "Probability to get at least one 6 on 4 rolls 0.51706\n",
      "Probability to get at least one 6 on 5 rolls 0.60002\n",
      "Probability to get at least one 6 on 6 rolls 0.66722\n",
      "Probability to get at least one 6 on 7 rolls 0.72033\n",
      "Probability to get at least one 6 on 8 rolls 0.76906\n",
      "Probability to get at least one 6 on 9 rolls 0.80411\n",
      "Probability to get at least one 6 on 10 rolls 0.83854\n",
      "Probability to get at least one 6 on 11 rolls 0.86661\n",
      "Probability to get at least one 6 on 12 rolls 0.88734\n",
      "Probability to get at least one 6 on 13 rolls 0.90558\n",
      "Number of rolls needed to reach a confidence of 90% is: 13\n"
     ]
    }
   ],
   "source": [
    "# confident = 90%\n",
    "num_sims = 100_000\n",
    "threashold = 0.9\n",
    "for sim in range(num_sims):\n",
    "    prob = simulation(num_sims, sim)\n",
    "    if prob >= threashold:\n",
    "        rolls_needed = sim\n",
    "        break\n",
    "print(f\"Number of rolls needed to reach a confidence of 90% is: {rolls_needed}\")"
   ]
  },
  {
   "cell_type": "code",
   "execution_count": 8,
   "metadata": {},
   "outputs": [
    {
     "name": "stdout",
     "output_type": "stream",
     "text": [
      "For given p 0.95, there are 17.0 rolls needed.\n",
      "For given p 0.99, there are 26.0 rolls needed.\n",
      "Probability to get at least one 6 on 18 rolls 0.9622\n"
     ]
    },
    {
     "data": {
      "text/plain": [
       "0.9622"
      ]
     },
     "execution_count": 8,
     "metadata": {},
     "output_type": "execute_result"
    }
   ],
   "source": [
    "# Use formula found in HW1 PROBLEM 1\n",
    "def needed_rolls(x):\n",
    "    a = np.ceil(np.log(1-x)/np.log(5/6))\n",
    "    print(f\"For given p {x}, there are {a} rolls needed.\")\n",
    "    return a\n",
    "\n",
    "needed_rolls(0.95)\n",
    "needed_rolls(0.99)\n",
    "\n",
    "# to verify\n",
    "simulation(num_rolls = 18)"
   ]
  },
  {
   "cell_type": "markdown",
   "metadata": {},
   "source": [
    "## Problem 8\n",
    "\n",
    "Create a simulation function where you will roll a fair 6-sided die 20 times and count the number of times the face $x$ comes up on the top face of the die. \n",
    "\n",
    "* In your simulation, create a list that will store the number of times it came up $x$ on the top face of the die.\n",
    "* Create a plot of unique counts vs their relative frequency\n",
    "\n",
    "Using your simulation function, run it for:\n",
    "\n",
    "1. $x=3$\n",
    "\n",
    "2. $x=[5,6]$, that is, probability of observing a 5 or a 6 on the top face.\n",
    "\n",
    "3. $x=[1,2,3]$, that is, probability of observing a 1, 2 or 3 on the top face.\n",
    "\n",
    "For both cases, comment the plotting results. For a *sufficient* amount of simulations, does it behave as *expected*?"
   ]
  },
  {
   "cell_type": "code",
   "execution_count": 10,
   "metadata": {},
   "outputs": [],
   "source": [
    "def num_count(x, rolls = 20, num_sims=100_000):\n",
    "    # empty array \n",
    "    arr = np.zeros(rolls)\n",
    "    for sim in range(num_sims):\n",
    "        die = random.choices(range(1,7), k = rolls)\n",
    "        # not working when doing times = die.count(x)\n",
    "        times = sum(die.count(num) for num in x)\n",
    "        arr[times] += 1\n",
    "    return arr, arr/num_sims"
   ]
  },
  {
   "cell_type": "code",
   "execution_count": 11,
   "metadata": {},
   "outputs": [
    {
     "data": {
      "text/plain": [
       "Text(0, 0.5, 'Relative Frequency')"
      ]
     },
     "execution_count": 11,
     "metadata": {},
     "output_type": "execute_result"
    },
    {
     "data": {
      "image/png": "[encoded data removed]",
      "text/plain": [
       "<Figure size 640x480 with 1 Axes>"
      ]
     },
     "metadata": {},
     "output_type": "display_data"
    }
   ],
   "source": [
    "x = [3]\n",
    "arr, freq = num_count(x)\n",
    "plt.bar(np.arange(len(freq)), freq)\n",
    "plt.xlabel(f\"Number of occurences of {x}\")\n",
    "plt.ylabel('Relative Frequency')"
   ]
  },
  {
   "cell_type": "markdown",
   "metadata": {},
   "source": [
    "**The graph above is as expected from the hand calculations. Only one outcome from a fair 6-sixed die and a total of 20 rolls. Probability is 20(1/6) = 3.333**"
   ]
  },
  {
   "cell_type": "code",
   "execution_count": 13,
   "metadata": {},
   "outputs": [
    {
     "data": {
      "text/plain": [
       "Text(0, 0.5, 'Relative Frequency')"
      ]
     },
     "execution_count": 13,
     "metadata": {},
     "output_type": "execute_result"
    },
    {
     "data": {
      "image/png": "[encoded data removed]",
      "text/plain": [
       "<Figure size 640x480 with 1 Axes>"
      ]
     },
     "metadata": {},
     "output_type": "display_data"
    }
   ],
   "source": [
    "x = [5, 6]\n",
    "arr, freq = num_count(x)\n",
    "plt.bar(np.arange(len(freq)), freq)\n",
    "plt.xlabel(f\"Number of occurences of {x}\")\n",
    "plt.ylabel(\"Relative Frequency\")"
   ]
  },
  {
   "cell_type": "markdown",
   "metadata": {},
   "source": [
    "**The graph above is as expected from the hand calculations. Only two outcomes from a fair 6-sixed die and a total of 20 rolls. Probability is 20(2/6) = 6.6667**"
   ]
  },
  {
   "cell_type": "code",
   "execution_count": 17,
   "metadata": {},
   "outputs": [
    {
     "data": {
      "text/plain": [
       "Text(0, 0.5, 'Relative Frequency')"
      ]
     },
     "execution_count": 17,
     "metadata": {},
     "output_type": "execute_result"
    },
    {
     "data": {
      "image/png": "[encoded data removed]",
      "text/plain": [
       "<Figure size 640x480 with 1 Axes>"
      ]
     },
     "metadata": {},
     "output_type": "display_data"
    }
   ],
   "source": [
    "x = [1, 2, 3]\n",
    "arr, freq = num_count(x)\n",
    "plt.bar(np.arange(len(freq)), freq)\n",
    "plt.xlabel(f\"Number of occurences of {x}\")\n",
    "plt.ylabel(\"Relative Frequency\")"
   ]
  },
  {
   "cell_type": "markdown",
   "metadata": {},
   "source": [
    "**The graph above is as expected from the hand calculations. Only three outcome from a fair 6-sixed die and a total of 20 rolls. Probability is 20(3/6) = 10**"
   ]
  },
  {
   "cell_type": "markdown",
   "metadata": {},
   "source": [
    "## Problem 9\n",
    "\n",
    "Suppose that you have a bag with 3 coins. One of them is a fair coin, but the others are biased trick coins. When flipped, the three coins come up heads with probability $\\frac{1}{2}$, $\\frac{2}{3}$, and $\\frac{1}{5}$, respectively.\n",
    "\n",
    "Consider the experiment where you pick one coin at random and flip it three times. Let $H_i$ be the event that the coin comes up heads on flip $i$. What is the probability of the outcome $H_1\\cap H_2\\cap \\overline{H_3}$?"
   ]
  },
  {
   "cell_type": "code",
   "execution_count": 19,
   "metadata": {},
   "outputs": [
    {
     "name": "stdout",
     "output_type": "stream",
     "text": [
      "The probability for having head in the first and second flip but not the third is 0.09874\n",
      "The probability calculated by hand is 0.10172\n"
     ]
    }
   ],
   "source": [
    "coins = ['fair', 'biased1', 'biased2']\n",
    "num_sims = 100_000\n",
    "count = 0\n",
    "for sim in range(num_sims):\n",
    "    coin = random.choice(coins)\n",
    "    if (coin == 'fair'):\n",
    "        S = ['H', 'T']\n",
    "    elif (coin == 'biased1'):\n",
    "        S = ['H', 'H', 'T']\n",
    "    else:\n",
    "        S = ['H', 'T', 'T', 'T',' T']\n",
    "        \n",
    "    value = random.choices(S, k = 3)\n",
    "    if value[0] == 'H':\n",
    "        if value[1] == 'H':\n",
    "            if value[2] == 'T':\n",
    "                count += 1\n",
    "\n",
    "# formula for probability found by hand\n",
    "a = 0.5**3*(1/3) + (2/3)**2*(1/3)**2 + (1/5)**2*(4/5)*(1/3)\n",
    "print(f\"The probability for having head in the first and second flip but not the third is {count/num_sims}\")\n",
    "print(f\"The probability calculated by hand is {a:.5f}\")"
   ]
  },
  {
   "cell_type": "markdown",
   "metadata": {},
   "source": [
    "## Problem 10\n",
    "\n",
    "In what follows, apply a significance value $\\alpha = 0.01$. That is, there must be less than a 1% probability of seeing such an extreme value under the null hypothesis before we are willing to conclude that the null hypothesis is not reasonable.\n",
    "\n",
    "* If a 6-sided die is rolled 10 times and all the values are <=4, should we feel confident that the die is not fair (i.e., reject the null hypothesis with $p=0.01$)?\n",
    "\n",
    "* Conduct the above simulation using a python function."
   ]
  },
  {
   "cell_type": "code",
   "execution_count": 21,
   "metadata": {},
   "outputs": [
    {
     "name": "stdout",
     "output_type": "stream",
     "text": [
      "Probability that all values are <=4 for 10 rolls is 0.01703\n"
     ]
    }
   ],
   "source": [
    "num_sims = 100_000\n",
    "die = npr.randint(1, 7, size = (10, num_sims))\n",
    "less_than_4 = np.sum(np.sum(die <= 4, axis = 0) == 10)\n",
    "print(f\"Probability that all values are <=4 for 10 rolls is {less_than_4/num_sims}\")"
   ]
  },
  {
   "cell_type": "markdown",
   "metadata": {},
   "source": [
    "**From the answer above the null hypothesis is not rejected.**"
   ]
  },
  {
   "cell_type": "markdown",
   "metadata": {},
   "source": [
    "## Problem 11\n",
    "\n",
    "Consider the experiment where you pick 3 cards at random from a deck of 52 playing cards (13 cards per suit) **without replacement**, i.e., at each card selection you will not put it back in the deck, and so the number of possible outcomes will change for each new draw.\n",
    "\n",
    "Let $D_i$ denote the event the card is diamonds in the $i$th draw.\n",
    "\n",
    "Build a simulation to compute the following probabilities:\n",
    "\n",
    "1. $P(D_1)$\n",
    "\n",
    "2. $P(D_1 \\cap D_2)$\n",
    "\n",
    "3. $P(D_1 \\cap D_2 \\cap \\overline{D_3})$\n",
    "\n",
    "4. $P(D_3 \\cup D_2|D_1 )$\n",
    "\n",
    "5. $P(D_3|D_1\\cap D_2)$\n",
    "\n",
    "*Note: to sample from a set **without replacement**, consider use the function ```numpy.random.choice``` by controling the parameter ```replace```*."
   ]
  },
  {
   "cell_type": "code",
   "execution_count": 23,
   "metadata": {},
   "outputs": [
    {
     "name": "stdout",
     "output_type": "stream",
     "text": [
      "Probability of getting diamond in the first draw is 0.25251\n"
     ]
    }
   ],
   "source": [
    "num_sims = 100_000\n",
    "cards = ['Heart', 'Diamond', 'Spade', 'Club'] * 13\n",
    "count_D1 = 0\n",
    "for sim in range(num_sims):\n",
    "    card = np.random.choice(cards, 3, False)\n",
    "    if card[0] == 'Diamond':\n",
    "        count_D1 += 1\n",
    "print(f\"Probability of getting diamond in the first draw is {count_D1/num_sims}\")"
   ]
  },
  {
   "cell_type": "code",
   "execution_count": 24,
   "metadata": {},
   "outputs": [
    {
     "name": "stdout",
     "output_type": "stream",
     "text": [
      "Probability of getting diamond in the first  and second draw is 0.05879\n"
     ]
    }
   ],
   "source": [
    "num_sims = 100_000\n",
    "cards = ['Heart', 'Diamond', 'Spade', 'Club'] * 13\n",
    "count_D1 = 0\n",
    "count_D1D2 = 0\n",
    "for sim in range(num_sims):\n",
    "    card = np.random.choice(cards, 3, False)\n",
    "    if card[0] == 'Diamond':\n",
    "        count_D1 += 1\n",
    "        if card[1] == 'Diamond':\n",
    "            count_D1D2 += 1\n",
    "print(f\"Probability of getting diamond in the first  and second draw is {count_D1D2/num_sims}\")"
   ]
  },
  {
   "cell_type": "code",
   "execution_count": 25,
   "metadata": {},
   "outputs": [
    {
     "name": "stdout",
     "output_type": "stream",
     "text": [
      "Probability of getting diamond in the first  and second draw but not the third draw is 0.04546\n"
     ]
    }
   ],
   "source": [
    "num_sims = 100_000\n",
    "cards = ['Heart', 'Diamond', 'Spade', 'Club'] * 13\n",
    "count_D1 = 0\n",
    "count_D2 = 0\n",
    "count_D1D2_notD3 = 0\n",
    "for sim in range(num_sims):\n",
    "    card = np.random.choice(cards, 3, False)\n",
    "    if card[0] == 'Diamond':\n",
    "        count_D1 += 1\n",
    "        if card[1] == 'Diamond':\n",
    "            count_D2 += 1\n",
    "            if card[2] != 'Diamond': \n",
    "                count_D1D2_notD3 += 1\n",
    "print(f\"Probability of getting diamond in the first  and second draw but not the third draw is {count_D1D2_notD3/num_sims}\")"
   ]
  },
  {
   "cell_type": "code",
   "execution_count": 26,
   "metadata": {},
   "outputs": [
    {
     "name": "stdout",
     "output_type": "stream",
     "text": [
      "Probability for the fourth part is 0.467138\n"
     ]
    }
   ],
   "source": [
    "num_sims = 100_000\n",
    "cards = ['Heart', 'Diamond', 'Spade', 'Club'] * 13\n",
    "count_D1 = 0\n",
    "count_D2D1 = 0\n",
    "count_D3D1 = 0\n",
    "for sim in range(num_sims):\n",
    "    card = np.random.choice(cards, 3, False)\n",
    "    if card[0] == 'Diamond':\n",
    "        count_D1 += 1\n",
    "        if card[1] == 'Diamond':\n",
    "            count_D2D1 += 1\n",
    "        if card[2] == 'Diamond':\n",
    "            count_D3D1 += 1\n",
    "print(f\"Probability for the fourth part is {(count_D3D1/count_D1)+(count_D2D1/count_D1):.6f}\")"
   ]
  },
  {
   "cell_type": "code",
   "execution_count": 27,
   "metadata": {},
   "outputs": [
    {
     "name": "stdout",
     "output_type": "stream",
     "text": [
      "Probability of getting diamond in the third draw given that we get diamond in the first and second draw is 0.218569\n"
     ]
    }
   ],
   "source": [
    "num_sims = 100_000\n",
    "cards = ['Heart', 'Diamond', 'Spade', 'Club'] * 13\n",
    "count_D1 = 0\n",
    "count_d1D2 = 0\n",
    "count_D1D2D3 = 0\n",
    "for sim in range(num_sims):\n",
    "    card = np.random.choice(cards, 3, False)\n",
    "    if card[0] == 'Diamond':\n",
    "        count_D1 += 1\n",
    "        if card[1] == 'Diamond':\n",
    "            count_D1D2 += 1\n",
    "            if card[2] == 'Diamond':\n",
    "                count_D1D2D3 += 1\n",
    "print(f\"Probability of getting diamond in the third draw given that we get diamond in the first and second draw is {count_D1D2D3/count_D2:.6f}\")"
   ]
  },
  {
   "cell_type": "markdown",
   "metadata": {},
   "source": [
    "## Problem 12\n",
    "\n",
    "Suppose that you have 6 coins: 2 fair coins and 4 unfair coins. When flipped, the coins flip heads with probability 0.5, 0.5, 0.8, 0.2, 0.1 and 0.3, respectively. Consider the experiment where you choose a coin at random and flip it for three times. Let $E$ be the event that 3 heads were observed. Compute $P(\\text{fair coin}|E)$.\n",
    "\n",
    "*Note: to encode specific probabilily of flipping heads, you may consider using the function ```numpy.random.choice``` by controlling the parameter ```p```.*"
   ]
  },
  {
   "cell_type": "code",
   "execution_count": 33,
   "metadata": {},
   "outputs": [
    {
     "name": "stdout",
     "output_type": "stream",
     "text": [
      "The probability to flip a coin three times and get three heads given that the coin is fair (conditional probability) is 0.31525.\n"
     ]
    }
   ],
   "source": [
    "num_sims = 100_000\n",
    "coins = ['fair', 'fair', 'unfair1', 'unfair2', 'unfair3', 'unfair4']\n",
    "head = 0\n",
    "count = 0\n",
    "for sim in range(num_sims):\n",
    "    coin = random.choice(coins)\n",
    "    if coin == 'fair':\n",
    "        S = ['H', 'T']\n",
    "    elif (coin == 'unfair1'):\n",
    "        S = ['H', 'H', 'H', 'H', 'H', 'H', 'H', 'H', 'T', 'T']\n",
    "    elif (coin == 'unfair2'):\n",
    "        S = ['H', 'H', 'T', 'T', 'T', 'T', 'T', 'T', 'T', 'T']\n",
    "    elif (coin == 'unfair3'):\n",
    "        S = ['H', 'T', 'T', 'T', 'T', 'T', 'T', 'T', 'T', 'T']\n",
    "    else:\n",
    "        S = ['H', 'H', 'H', 'T', 'T', 'T', 'T', 'T', 'T', 'T']\n",
    "    value = random.choices(S, k = 3)\n",
    "    if value.count('H') == 3:\n",
    "        head += 1\n",
    "        if coin == 'fair':\n",
    "            count += 1\n",
    "print(f\"The probability to flip a coin three times and get three heads given that the coin is fair (conditional probability) is {count/head:.5f}.\")"
   ]
  },
  {
   "cell_type": "markdown",
   "metadata": {},
   "source": [
    "# Submission Instructions:\n",
    "\n",
    "When you are done with the exercises in this notebook, upload a PDF or your results to Canvas.  To create the PDF with your code and results, you can use the following procedure:\n",
    "\n",
    "1. Go to Kernel\n",
    "2. Click Restart and Run All\n",
    "3. Check over the notebook to make sure everything still looks right\n",
    "\n",
    "**At this point, you may be able to just choose \"Print\" from JupyterLab's File menu and then print to PDF (OS dependent). If everything is correct in the PDF version, then upload that PDF to the assignment in Canvas.**\n",
    "\n",
    "**If your PDF is missing any of your outputs, you can use the following procedure:**\n",
    "\n",
    "4. Next, click File at the top on the tool bar below Jupyter icon\n",
    "5. Click Save and Export Notebook as... and choose HTML\n",
    "6. The HTML file will either open in a new tab/window or be downloaded to your Downloads folder. Open it if it is in the Downloads folder\n",
    "7. Print the HTML file to PDF (how to do this is OS dependent). Make sure to save it to somewhere you can find it\n",
    "8. Open the PDF to make sure that everything looks right and that nothing is cut off\n",
    "9. Upload both the PDF and ipynb files to the Canvas assignment"
   ]
  },
  {
   "cell_type": "code",
   "execution_count": null,
   "metadata": {},
   "outputs": [],
   "source": []
  }
 ],
 "metadata": {
  "kernelspec": {
   "display_name": "Python 3 (ipykernel)",
   "language": "python",
   "name": "python3"
  },
  "language_info": {
   "codemirror_mode": {
    "name": "ipython",
    "version": 3
   },
   "file_extension": ".py",
   "mimetype": "text/x-python",
   "name": "python",
   "nbconvert_exporter": "python",
   "pygments_lexer": "ipython3",
   "version": "3.12.4"
  },
  "latex_envs": {
   "LaTeX_envs_menu_present": true,
   "autoclose": false,
   "autocomplete": true,
   "bibliofile": "biblio.bib",
   "cite_by": "apalike",
   "current_citInitial": 1,
   "eqLabelWithNumbers": true,
   "eqNumInitial": 1,
   "hotkeys": {
    "equation": "Ctrl-E",
    "itemize": "Ctrl-I"
   },
   "labels_anchors": false,
   "latex_user_defs": false,
   "report_style_numbering": false,
   "user_envs_cfg": false
  },
  "varInspector": {
   "cols": {
    "lenName": 16,
    "lenType": 16,
    "lenVar": 40
   },
   "kernels_config": {
    "python": {
     "delete_cmd_postfix": "",
     "delete_cmd_prefix": "del ",
     "library": "var_list.py",
     "varRefreshCmd": "print(var_dic_list())"
    },
    "r": {
     "delete_cmd_postfix": ") ",
     "delete_cmd_prefix": "rm(",
     "library": "var_list.r",
     "varRefreshCmd": "cat(var_dic_list()) "
    }
   },
   "types_to_exclude": [
    "module",
    "function",
    "builtin_function_or_method",
    "instance",
    "_Feature"
   ],
   "window_display": false
  }
 },
 "nbformat": 4,
 "nbformat_minor": 4
}
